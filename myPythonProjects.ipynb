{
 "cells": [
  {
   "cell_type": "markdown",
   "metadata": {},
   "source": [
    "# MAD LIBS GAME"
   ]
  },
  {
   "cell_type": "code",
   "execution_count": 2,
   "metadata": {},
   "outputs": [
    {
     "name": "stdout",
     "output_type": "stream",
     "text": [
      "enter color: red\n",
      "enter color: yellow\n",
      "enter celebrity name: bigwiz\n"
     ]
    }
   ],
   "source": [
    "roses = input('enter color: ')\n",
    "hibiscus = input('enter color: ')\n",
    "celebrity = input('enter celebrity name: ')"
   ]
  },
  {
   "cell_type": "code",
   "execution_count": 3,
   "metadata": {},
   "outputs": [
    {
     "name": "stdout",
     "output_type": "stream",
     "text": [
      "Roses are red\n",
      "Hibiscus are yellow\n",
      "My favorite celebrity is bigwiz\n"
     ]
    }
   ],
   "source": [
    "print('Roses are '+ roses+'\\nHibiscus are '+ hibiscus+'\\nMy favorite celebrity is',celebrity)"
   ]
  },
  {
   "cell_type": "markdown",
   "metadata": {},
   "source": [
    "# GUESS THE NUMBER GAME(COMPUTER)"
   ]
  },
  {
   "cell_type": "code",
   "execution_count": 4,
   "metadata": {},
   "outputs": [],
   "source": [
    "import numpy as np\n",
    "from numpy import random"
   ]
  },
  {
   "cell_type": "code",
   "execution_count": 5,
   "metadata": {},
   "outputs": [],
   "source": [
    "luckyNum = random.randint(1,10)"
   ]
  },
  {
   "cell_type": "code",
   "execution_count": 6,
   "metadata": {},
   "outputs": [],
   "source": [
    "comNum = random.randint(1,10)\n",
    "\n",
    "message = ['The computer is right','Wow,so lucky to have gotten it right at first try','First try and was correct']\n",
    "message2 = ['The com got it right this time.','The second guess wasnt bad','OOOkaaaayyyyy']\n",
    "message3 =['Got it this time','Narrow escape']\n",
    "fail = ['Failed to guess the number within the three trials','No luck,try again']"
   ]
  },
  {
   "cell_type": "code",
   "execution_count": 7,
   "metadata": {},
   "outputs": [
    {
     "name": "stdout",
     "output_type": "stream",
     "text": [
      "The com got it right this time.\n",
      "The first choice of the computer is  8\n",
      "The second choice of the computer is  5\n",
      "The lucky number is  5\n"
     ]
    }
   ],
   "source": [
    "if comNum == luckyNum:\n",
    "    print(random.choice(message))\n",
    "    print('The first choice of the computer is ',comNum)\n",
    "else:\n",
    "    comNum2 = random.randint(1,10)\n",
    "    if comNum2 == luckyNum:\n",
    "        print(random.choice(message2))\n",
    "        print('The first choice of the computer is ',comNum)\n",
    "        print('The second choice of the computer is ',comNum2)\n",
    "    else:\n",
    "        comNum3 = random.randint(1,10)\n",
    "        if comNum3 == luckyNum:\n",
    "            print(random.choice(message3))\n",
    "        else:\n",
    "            print(random.choice(fail))\n",
    "            print('The first choice of the computer is ',comNum)\n",
    "            print('The second choice of the computer is ',comNum2)\n",
    "            print('The third choice of the computer is ',comNum3)\n",
    "\n",
    "print('The lucky number is ',luckyNum)"
   ]
  },
  {
   "cell_type": "markdown",
   "metadata": {},
   "source": [
    "# GUESS THE NUMBER (USER)"
   ]
  },
  {
   "cell_type": "code",
   "execution_count": 8,
   "metadata": {},
   "outputs": [
    {
     "data": {
      "text/plain": [
       "array([3, 2])"
      ]
     },
     "execution_count": 8,
     "metadata": {},
     "output_type": "execute_result"
    }
   ],
   "source": [
    "lucky_num = np.random.randint(1,10,2)\n",
    "lucky_num"
   ]
  },
  {
   "cell_type": "code",
   "execution_count": 9,
   "metadata": {},
   "outputs": [
    {
     "name": "stdout",
     "output_type": "stream",
     "text": [
      "2\n",
      "3\n"
     ]
    }
   ],
   "source": [
    "user = np.array([int(input()),int(input())])\n",
    "user\n",
    "\n",
    "pos_reply = ['The user is right','Wow,so lucky to have gotten it right at first try','First try and was correct']\n",
    "pos_reply2 = ['The user got it right this time.','The second guess wasnt bad','OOOkaaaayyyyy']\n",
    "pos_reply3 =['Got it this time','Narrow escape']\n",
    "neg_reply = ['Failed to guess the number within the three trials','No luck,try again']"
   ]
  },
  {
   "cell_type": "code",
   "execution_count": 10,
   "metadata": {},
   "outputs": [
    {
     "name": "stdout",
     "output_type": "stream",
     "text": [
      "2\n",
      "3\n",
      "2\n",
      "3\n",
      "No luck,try again\n",
      "The first choice of the computer is  [2 3]\n",
      "The second choice of the computer is  [2 3]\n",
      "The third choice of the computer is  [2 3]\n",
      "The lucky number is  [3 2]\n"
     ]
    }
   ],
   "source": [
    "if user[0] == lucky_num[0] and user[1] == lucky_num[1]:\n",
    "    print(random.choice(pos_reply))\n",
    "    print('The first choice of the computer is ',user)\n",
    "else:\n",
    "    user2 = np.array([int(input()),int(input())])\n",
    "    if user2[0] == lucky_num[0] and user2[1] == lucky_num[1]:\n",
    "        print(random.choice(pos_reply2))\n",
    "        print('The first choice of the computer is ',user)\n",
    "        print('The second choice of the computer is ',user2)\n",
    "    else:\n",
    "        user3 = np.array([int(input()),int(input())])\n",
    "        if user3[0] == lucky_num[0] and user3[1] == lucky_num[1]:\n",
    "            print(random.choice(pos_reply3))\n",
    "        else:\n",
    "            print(random.choice(neg_reply))\n",
    "            print('The first choice of the computer is ',user)\n",
    "            print('The second choice of the computer is ',user2)\n",
    "            print('The third choice of the computer is ',user3)\n",
    "print('The lucky number is ',lucky_num)"
   ]
  },
  {
   "cell_type": "markdown",
   "metadata": {},
   "source": [
    "# ROCK PAPER SCISSORS"
   ]
  },
  {
   "cell_type": "code",
   "execution_count": 67,
   "metadata": {},
   "outputs": [],
   "source": [
    "#rock beats scissors\n",
    "#scissors beats paper\n",
    "#paper beats rock"
   ]
  },
  {
   "cell_type": "code",
   "execution_count": 15,
   "metadata": {},
   "outputs": [
    {
     "name": "stdout",
     "output_type": "stream",
     "text": [
      "Enter your name: musa\n",
      "Rock Paper or Scissors: rock\n",
      "Paper covers rock musa lose..\n"
     ]
    }
   ],
   "source": [
    "username = input('Enter your name: ')\n",
    "\n",
    "def game():\n",
    "    user = input('Rock Paper or Scissors: ')\n",
    "    com = random.choice(['rock','scissors','paper'])\n",
    "    if com == user:\n",
    "        print('It is a tie...No one won')\n",
    "    elif user == 'scissors':\n",
    "        if com == 'paper':\n",
    "            print('Scissors cuts paper,',username.capitalize(),'won')\n",
    "        else:\n",
    "            print('Rock smashes scissors,Com won',username,'lose!')\n",
    "    elif user == 'rock':\n",
    "        if com == 'scissors':\n",
    "            print('Rock smashes scissors..',username,'wins!')\n",
    "        else:\n",
    "            print('Paper covers rock',username,'lose..')\n",
    "    elif user == 'paper':\n",
    "        if com == 'rock':\n",
    "            print('Paper covers rock,',username,'wins!!!')\n",
    "        else:\n",
    "            print('Scissors cuts paper',username,'loose!!!!!')\n",
    "game()"
   ]
  },
  {
   "cell_type": "markdown",
   "metadata": {},
   "source": [
    "# HANGMAN"
   ]
  },
  {
   "cell_type": "code",
   "execution_count": 18,
   "metadata": {},
   "outputs": [
    {
     "name": "stdout",
     "output_type": "stream",
     "text": [
      "_ _ _ \n",
      "Allowed Errors left 10, Next guess: l\n",
      "_ _ _ \n",
      "Allowed Errors left 9, Next guess: l\n",
      "_ _ _ \n",
      "Allowed Errors left 8, Next guess: l\n",
      "_ _ _ \n",
      "Allowed Errors left 7, Next guess: l\n",
      "_ _ _ \n",
      "Allowed Errors left 6, Next guess: l\n",
      "_ _ _ \n",
      "Allowed Errors left 5, Next guess: l\n",
      "_ _ _ \n",
      "Allowed Errors left 4, Next guess: l\n",
      "_ _ _ \n",
      "Allowed Errors left 3, Next guess: l\n",
      "_ _ _ \n",
      "Allowed Errors left 2, Next guess: l\n",
      "_ _ _ \n",
      "Allowed Errors left 1, Next guess: l\n",
      "You found the word! The secret word was Car\n"
     ]
    }
   ],
   "source": [
    "word = random.choice(['Secret','Car','House','Umbrella','Python','Javascript'])\n",
    "allowed_errors = 10\n",
    "guesses = []\n",
    "done = False\n",
    "\n",
    "while not done:\n",
    "    for letter in word:\n",
    "        if letter.lower() in guesses:\n",
    "            print(letter,end = ' ')\n",
    "        else:\n",
    "            print('_',end = ' ')\n",
    "    print('')\n",
    "    done = True\n",
    "    \n",
    "    guess = input(f'Allowed Errors left {allowed_errors}, Next guess: ')\n",
    "    guesses.append(guess.lower())\n",
    "    \n",
    "    if guess.lower() not in word.lower():\n",
    "        allowed_errors -= 1\n",
    "        if allowed_errors == 0:\n",
    "            break\n",
    "    done = True\n",
    "    for letter in word:\n",
    "        if letter.lower() not in guesses:\n",
    "            done = False\n",
    "\n",
    "if done:\n",
    "    print(f'You found the word! The secret word was {word}')\n",
    "else:\n",
    "    print(f'Game Over!! The secret word was {word}')"
   ]
  },
  {
   "cell_type": "code",
   "execution_count": 4,
   "metadata": {},
   "outputs": [
    {
     "name": "stdout",
     "output_type": "stream",
     "text": [
      "You found the word! The secret word was Timer\n"
     ]
    }
   ],
   "source": [
    "word = ('Timer')\n",
    "allowed_errors = 10\n",
    "guesses = []\n",
    "done = False\n",
    "\n",
    "while not done:\n",
    "    for letters in word:\n",
    "        if letters.lower() in guesses:\n",
    "            print(letters,end = ' ')\n",
    "        else:\n",
    "            print('_',end = ' ')\n",
    "    done = True\n",
    "    \n",
    "    guess = input(f'Guess a number,allowed errors: {allowed_errors}: ')\n",
    "    guesses.append(guess)\n",
    "    \n",
    "    if guess.lower() not in word.lower():\n",
    "        allowed_errors -= 1\n",
    "        if allowed_errors == 0:\n",
    "            break\n",
    "    done = True\n",
    "    for letters in word:\n",
    "        if letters.lower() not in guesses:\n",
    "            done = False\n",
    "if done:\n",
    "    print(f'You found the word! The secret word was {word}')\n",
    "else:\n",
    "    print(f'Game Over!! The secret word was {word}')"
   ]
  },
  {
   "cell_type": "markdown",
   "metadata": {},
   "source": [
    "# COUNTDOWN TIMER"
   ]
  },
  {
   "cell_type": "code",
   "execution_count": 5,
   "metadata": {},
   "outputs": [
    {
     "name": "stdout",
     "output_type": "stream",
     "text": [
      "Input number of seconds to countdown: 60\n",
      "01 : 00\n",
      "00 : 59\n",
      "00 : 58\n",
      "00 : 57\n",
      "00 : 56\n",
      "00 : 55\n",
      "00 : 54\n",
      "00 : 53\n",
      "00 : 52\n",
      "00 : 51\n",
      "00 : 50\n",
      "00 : 49\n",
      "00 : 48\n",
      "00 : 47\n",
      "00 : 46\n",
      "00 : 45\n",
      "00 : 44\n",
      "00 : 43\n",
      "00 : 42\n",
      "00 : 41\n",
      "00 : 40\n",
      "00 : 39\n",
      "00 : 38\n",
      "00 : 37\n",
      "00 : 36\n",
      "00 : 35\n",
      "00 : 34\n",
      "00 : 33\n",
      "00 : 32\n",
      "00 : 31\n",
      "00 : 30\n",
      "00 : 29\n",
      "00 : 28\n",
      "00 : 27\n",
      "00 : 26\n",
      "00 : 25\n",
      "00 : 24\n",
      "00 : 23\n",
      "00 : 22\n",
      "00 : 21\n",
      "00 : 20\n",
      "00 : 19\n",
      "00 : 18\n",
      "00 : 17\n",
      "00 : 16\n",
      "00 : 15\n",
      "00 : 14\n",
      "00 : 13\n",
      "00 : 12\n",
      "00 : 11\n",
      "00 : 10\n",
      "00 : 09\n",
      "00 : 08\n",
      "00 : 07\n",
      "00 : 06\n",
      "00 : 05\n",
      "00 : 04\n",
      "00 : 03\n",
      "00 : 02\n",
      "00 : 01\n",
      "Countdown finished\n"
     ]
    }
   ],
   "source": [
    "import time\n",
    "\n",
    "def countdown(num_of_secs):\n",
    "    while num_of_secs:\n",
    "        m,s = divmod(num_of_secs, 60)\n",
    "        min_sec_format = '{:02d} : {:02d}'.format(m,s)\n",
    "        print(min_sec_format,end = '\\n')\n",
    "        time.sleep(1)\n",
    "        num_of_secs -= 1\n",
    "        \n",
    "    print('Countdown finished')\n",
    "inp = int(input('Input number of seconds to countdown: '))\n",
    "countdown(inp)"
   ]
  },
  {
   "cell_type": "code",
   "execution_count": 11,
   "metadata": {},
   "outputs": [
    {
     "name": "stdout",
     "output_type": "stream",
     "text": [
      "Enter the num of sec: 4\n",
      "00:04\n",
      "00:03\n",
      "00:02\n",
      "00:01\n",
      "countdown finished\n"
     ]
    }
   ],
   "source": [
    "def myFunc(num_of_sec):\n",
    "    while num_of_sec:\n",
    "        m,s = divmod(num_of_sec,60)\n",
    "        min_sec_format = ('{:02d}:{:02d}'.format(m,s))\n",
    "        print(min_sec_format,end = '\\n')\n",
    "        time.sleep(1)\n",
    "        num_of_sec -= 1\n",
    "        \n",
    "    print('countdown finished')\n",
    "myFunc(int(input('Enter the num of sec: ')))"
   ]
  },
  {
   "cell_type": "markdown",
   "metadata": {},
   "source": [
    "# PASSWORD GENERATOR"
   ]
  },
  {
   "cell_type": "code",
   "execution_count": 39,
   "metadata": {},
   "outputs": [
    {
     "name": "stdout",
     "output_type": "stream",
     "text": [
      "d\n",
      "dd\n",
      "ddt\n",
      "ddtx\n",
      "ddtx7\n",
      "ddtx74\n",
      "ddtx74t\n",
      "ddtx74tt\n",
      "ddtx74tt4\n",
      "ddtx74tt4s\n"
     ]
    }
   ],
   "source": [
    "import numpy as np\n",
    "\n",
    "password = []\n",
    "def passGen():\n",
    "    i = 0\n",
    "    while i < 10:\n",
    "        p = np.random.choice([0,1,2,3,4,5,6,7,8,9,'a','b','c','d','e','f','g','h','i','j','k','l','m','n','o',\n",
    "                              'p','q','r','s','t','u','v','w','x','y','z'])\n",
    "        password.append(p)\n",
    "        i += 1\n",
    "        listToStr = ''.join(map(str,password))\n",
    "        print(listToStr)\n",
    "passGen()"
   ]
  },
  {
   "cell_type": "code",
   "execution_count": 30,
   "metadata": {},
   "outputs": [
    {
     "name": "stdout",
     "output_type": "stream",
     "text": [
      "i am good\n"
     ]
    }
   ],
   "source": [
    "s = ['i','am','good']\n",
    "listToStr = ' '.join(map(str,s))\n",
    "print(listToStr)"
   ]
  },
  {
   "cell_type": "code",
   "execution_count": null,
   "metadata": {},
   "outputs": [],
   "source": []
  }
 ],
 "metadata": {
  "kernelspec": {
   "display_name": "Python 3",
   "language": "python",
   "name": "python3"
  },
  "language_info": {
   "codemirror_mode": {
    "name": "ipython",
    "version": 3
   },
   "file_extension": ".py",
   "mimetype": "text/x-python",
   "name": "python",
   "nbconvert_exporter": "python",
   "pygments_lexer": "ipython3",
   "version": "3.8.5"
  }
 },
 "nbformat": 4,
 "nbformat_minor": 4
}
